{
 "cells": [
  {
   "cell_type": "code",
   "execution_count": 1,
   "id": "8dcacd9a",
   "metadata": {},
   "outputs": [],
   "source": [
    "import tensorflow as tf\n",
    "from tensorflow.keras.layers import Layer  # type: ignore\n",
    "from tensorflow.keras import activations\n",
    "from tensorflow.keras import initializers\n",
    "from typing import List, Optional, Text, Tuple\n",
    "import tensornetwork as tn\n",
    "from tensornetwork.network_components import Node\n",
    "import numpy as np\n",
    "import math"
   ]
  },
  {
   "cell_type": "code",
   "execution_count": 2,
   "id": "54d1772e",
   "metadata": {},
   "outputs": [],
   "source": [
    "from tensorflow.keras.models import Sequential\n",
    "from tensorflow.keras.layers import Dense"
   ]
  },
  {
   "cell_type": "code",
   "execution_count": 5,
   "id": "ff22bb6d",
   "metadata": {},
   "outputs": [],
   "source": [
    "# Import tensornetwork keras layer\n",
    "from mps import MPS"
   ]
  },
  {
   "cell_type": "code",
   "execution_count": 3,
   "id": "d4896fd0",
   "metadata": {},
   "outputs": [],
   "source": [
    "def dummy_data(input_dim):\n",
    "    np.random.seed(42)\n",
    "    # Generate dummy data for use in tests\n",
    "    data = np.float32(np.random.randint(10, size=(100, input_dim)))\n",
    "    labels = np.concatenate((np.ones((50, 1)), np.zeros((50, 1))), axis=0)\n",
    "    return data, labels"
   ]
  },
  {
   "cell_type": "code",
   "execution_count": 4,
   "id": "18c8d557",
   "metadata": {},
   "outputs": [],
   "source": [
    "data, labels = dummy_data(1296)"
   ]
  },
  {
   "cell_type": "code",
   "execution_count": 9,
   "id": "fd0e2d36",
   "metadata": {},
   "outputs": [],
   "source": [
    "mps_model = Sequential()\n",
    "mps_model.add(MPS(256, num_nodes=4, bond_dim=8, use_bias=True, activation='relu', input_shape=(1296,)))\n",
    "mps_model.add(MPS(81, num_nodes=4, bond_dim=4, use_bias=True, activation='relu'))\n",
    "mps_model.add(Dense(1, use_bias=True, activation='sigmoid'))"
   ]
  },
  {
   "cell_type": "code",
   "execution_count": 7,
   "id": "d9a32bd3",
   "metadata": {},
   "outputs": [
    {
     "name": "stdout",
     "output_type": "stream",
     "text": [
      "Model: \"sequential\"\n",
      "_________________________________________________________________\n",
      " Layer (type)                Output Shape              Param #   \n",
      "=================================================================\n",
      " mps (MPS)                   (None, 256)               33184     \n",
      "                                                                 \n",
      " mps_1 (MPS)                 (None, 81)                2721      \n",
      "                                                                 \n",
      " dense (Dense)               (None, 1)                 82        \n",
      "                                                                 \n",
      "=================================================================\n",
      "Total params: 35,987\n",
      "Trainable params: 35,987\n",
      "Non-trainable params: 0\n",
      "_________________________________________________________________\n"
     ]
    }
   ],
   "source": [
    "mps_model.summary()"
   ]
  },
  {
   "cell_type": "code",
   "execution_count": null,
   "id": "e1bd8e89",
   "metadata": {},
   "outputs": [],
   "source": [
    "mps_model.compile(optimizer='adam',\n",
    "              loss='binary_crossentropy',\n",
    "              metrics=['accuracy'])\n",
    "\n",
    "# Train the tensorized model for 10 epochs\n",
    "history = mps_model.fit(data, labels, epochs=10, batch_size=32)"
   ]
  }
 ],
 "metadata": {
  "kernelspec": {
   "display_name": "Python 3 (ipykernel)",
   "language": "python",
   "name": "python3"
  },
  "language_info": {
   "codemirror_mode": {
    "name": "ipython",
    "version": 3
   },
   "file_extension": ".py",
   "mimetype": "text/x-python",
   "name": "python",
   "nbconvert_exporter": "python",
   "pygments_lexer": "ipython3",
   "version": "3.9.16"
  }
 },
 "nbformat": 4,
 "nbformat_minor": 5
}
